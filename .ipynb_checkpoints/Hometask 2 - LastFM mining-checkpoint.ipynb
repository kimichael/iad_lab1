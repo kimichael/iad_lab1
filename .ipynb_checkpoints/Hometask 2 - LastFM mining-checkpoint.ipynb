{
 "cells": [
  {
   "cell_type": "markdown",
   "metadata": {},
   "source": [
    "# Last FM hometask <br>\n",
    "https://www.kaggle.com/ravichaubey1506/lastfm <br>\n",
    "1. Выбрать данные по странам своей группы (совместно): <br>\n",
    "    3530203_70101: Germany, Netherlands <br>\n",
    "    3530203_70102: Belarus, Ukraine, Poland, Russian Federation<br>\n",
    "    3530903_70301: Sweden, Finland, Norway, Denmark, Iceland<br>\n",
    "    3530903_70302: Spain, Portugal, France, Italy, Belgium<br>\n",
    "    \n",
    "2. Попытаться найти полезные с точки зрения продвижения групп (или еще чего-нибудь) и нетривиальные правила, используя алгоритмы Apriori, FPGrowth, FPMax и всевозможные метрики. Хотя бы 5 правил.\n",
    "3. Вывести эти правила в отдельных ячейках. \n",
    "4. Подумать, как можно было бы использовать полученные правила."
   ]
  },
  {
   "cell_type": "code",
   "execution_count": null,
   "metadata": {},
   "outputs": [],
   "source": [
    "import pandas as o"
   ]
  },
  {
   "cell_type": "code",
   "execution_count": null,
   "metadata": {},
   "outputs": [],
   "source": [
    "data = pd.read_csv(\"lastfm.csv\")\n",
    "data.head()"
   ]
  }
 ],
 "metadata": {
  "kernelspec": {
   "display_name": "Python 3",
   "language": "python",
   "name": "python3"
  },
  "language_info": {
   "codemirror_mode": {
    "name": "ipython",
    "version": 3
   },
   "file_extension": ".py",
   "mimetype": "text/x-python",
   "name": "python",
   "nbconvert_exporter": "python",
   "pygments_lexer": "ipython3",
   "version": "3.8.1"
  }
 },
 "nbformat": 4,
 "nbformat_minor": 4
}
