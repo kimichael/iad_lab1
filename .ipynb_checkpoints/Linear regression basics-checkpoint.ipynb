{
 "cells": [
  {
   "cell_type": "code",
   "execution_count": null,
   "metadata": {},
   "outputs": [],
   "source": [
    "import pandas as pd\n",
    "import numpy as np\n",
    "\n",
    "import matplotlib.pyplot as plt\n",
    "\n",
    "import seaborn as sns\n",
    "\n",
    "np.set_printoptions(precision=3)\n",
    "pd.set_option('precision', 3)\n",
    "\n",
    "sns.set()"
   ]
  },
  {
   "cell_type": "markdown",
   "metadata": {},
   "source": [
    "### London bike sharing\n",
    "\n",
    "##### Dataset\n",
    "https://www.kaggle.com/hmavrodiev/london-bike-sharing-dataset\n",
    "\n",
    "\"timestamp\" - timestamp field for grouping the data</br>\n",
    "\"cnt\" - the count of a new bike shares</br>\n",
    "\"t1\" - real temperature in C</br>\n",
    "\"t2\" - temperature in C \"feels like\"</br>\n",
    "\"hum\" - humidity in percentage</br>\n",
    "\"windspeed\" - wind speed in km/h</br>\n",
    "\"weathercode\" - category of the weather</br>\n",
    "\"isholiday\" - boolean field - 1 holiday / 0 non holiday</br>\n",
    "\"isweekend\" - boolean field - 1 if the day is weekend</br>\n",
    "\"season\" - category field meteorological seasons: 0-spring ; 1-summer; 2-fall; 3-winter.</br>\n",
    "\n",
    "\"weathe_code\" category description:</br>\n",
    "1 = Clear ; mostly clear but have some values with haze/fog/patches of fog/ fog in vicinity 2 = scattered clouds / few clouds 3 = Broken clouds 4 = Cloudy 7 = Rain/ light Rain shower/ Light rain 10 = rain with thunderstorm 26 = snowfall 94 = Freezing Fog\n"
   ]
  },
  {
   "cell_type": "code",
   "execution_count": null,
   "metadata": {},
   "outputs": [],
   "source": [
    "bike_data = pd.read_csv('london_bikes_sample.csv')\n",
    "bike_data.head()"
   ]
  },
  {
   "cell_type": "code",
   "execution_count": null,
   "metadata": {},
   "outputs": [],
   "source": [
    "bike_data.info()"
   ]
  },
  {
   "cell_type": "code",
   "execution_count": null,
   "metadata": {},
   "outputs": [],
   "source": [
    "bike_data['year'] = pd.DatetimeIndex(bike_data['timestamp']).year\n",
    "bike_data['month'] = pd.DatetimeIndex(bike_data['timestamp']).month\n",
    "bike_data['hour'] = pd.DatetimeIndex(bike_data['timestamp']).hour\n",
    "\n",
    "bike_data.drop('timestamp', axis = 1, inplace = True)\n",
    "\n",
    "bike_data.head()"
   ]
  },
  {
   "cell_type": "code",
   "execution_count": null,
   "metadata": {},
   "outputs": [],
   "source": [
    "bike_data.describe()"
   ]
  },
  {
   "cell_type": "code",
   "execution_count": null,
   "metadata": {},
   "outputs": [],
   "source": [
    "plt.subplots(figsize=(12,7))\n",
    "sns.boxplot(x=bike_data['season'], y=bike_data['cnt'])"
   ]
  },
  {
   "cell_type": "code",
   "execution_count": null,
   "metadata": {},
   "outputs": [],
   "source": [
    "sns.pairplot(bike_data)"
   ]
  },
  {
   "cell_type": "code",
   "execution_count": null,
   "metadata": {},
   "outputs": [],
   "source": [
    "plt.figure(figsize=(18,20))\n",
    "for i, column in enumerate(bike_data.columns):\n",
    "    plt.subplot(4, 4, i + 1)\n",
    "    plt.scatter(bike_data[column], bike_data['cnt'])\n",
    "    plt.xlabel(column)\n",
    "    plt.ylabel('count')"
   ]
  },
  {
   "cell_type": "code",
   "execution_count": null,
   "metadata": {},
   "outputs": [],
   "source": [
    "fig, ax = plt.subplots(figsize=(10,10))\n",
    "sns.heatmap(bike_data.corr(method='spearman'), annot = True, linewidths=0.7, ax=ax )"
   ]
  },
  {
   "cell_type": "code",
   "execution_count": null,
   "metadata": {},
   "outputs": [],
   "source": [
    "X, Y = bike_data.drop('cnt', axis = 1), bike_data['cnt']\n",
    "X.head()"
   ]
  },
  {
   "cell_type": "code",
   "execution_count": null,
   "metadata": {},
   "outputs": [],
   "source": [
    "import sklearn.metrics as metrics\n",
    "\n",
    "from sklearn.linear_model import LinearRegression, Lasso, Ridge, LassoCV, RidgeCV\n",
    "from sklearn.preprocessing import StandardScaler\n",
    "\n",
    "from sklearn.model_selection import train_test_split"
   ]
  },
  {
   "cell_type": "code",
   "execution_count": null,
   "metadata": {},
   "outputs": [],
   "source": [
    "X_train, X_test, Y_train, Y_test = train_test_split (X, Y, test_size = 0.3, shuffle = False)\n",
    "X_train"
   ]
  },
  {
   "cell_type": "code",
   "execution_count": null,
   "metadata": {},
   "outputs": [],
   "source": [
    "std_scaler = StandardScaler()\n",
    "\n",
    "X_train_scaled = std_scaler.fit_transform(X_train)\n",
    "X_test_scaled = std_scaler.transform(X_test)\n",
    "\n",
    "X_train_scaled"
   ]
  },
  {
   "cell_type": "code",
   "execution_count": null,
   "metadata": {},
   "outputs": [],
   "source": [
    "simple_LR = LinearRegression()\n",
    "\n",
    "simple_LR.fit(X_train_scaled, Y_train)\n",
    "simple_LR_predictions = simple_LR.predict(X_test_scaled)\n",
    "\n",
    "simple_LR_MSE = metrics.mean_squared_error(Y_test, simple_LR_predictions)\n",
    "\n",
    "print (f'MSE = {round(simple_LR_MSE,3)}')"
   ]
  },
  {
   "cell_type": "code",
   "execution_count": null,
   "metadata": {},
   "outputs": [],
   "source": [
    "simple_LR_RMSE = metrics.mean_squared_error(Y_test, simple_LR_predictions, squared = False)\n",
    "\n",
    "print (f'RMSE = {round(simple_LR_RMSE,3)}')"
   ]
  },
  {
   "cell_type": "code",
   "execution_count": null,
   "metadata": {},
   "outputs": [],
   "source": [
    "print (f'Test std: {round(Y_test.std(),3)}')"
   ]
  },
  {
   "cell_type": "code",
   "execution_count": null,
   "metadata": {},
   "outputs": [],
   "source": [
    "plt.figure(figsize=(8, 8))\n",
    "plt.scatter(simple_LR_predictions, Y_test)\n",
    "plt.xlabel('Predictions')\n",
    "plt.ylabel('Target')"
   ]
  },
  {
   "cell_type": "code",
   "execution_count": null,
   "metadata": {},
   "outputs": [],
   "source": [
    "simple_LR.intercept_, simple_LR.coef_"
   ]
  },
  {
   "cell_type": "code",
   "execution_count": null,
   "metadata": {},
   "outputs": [],
   "source": [
    "pd.DataFrame(simple_LR.coef_, bike_data.columns[1:], columns=['Coefficients'])"
   ]
  },
  {
   "cell_type": "code",
   "execution_count": null,
   "metadata": {},
   "outputs": [],
   "source": [
    "model = Lasso()\n",
    "\n",
    "model.fit(X_train_scaled, Y_train)\n",
    "predictions = model.predict(X_test_scaled)\n",
    "\n",
    "print (f'RMSE = {round(metrics.mean_squared_error(Y_test, predictions, squared=False), 3)}')\n",
    "\n",
    "pd.DataFrame(model.coef_, bike_data.columns[1:], columns=['Coefficients'])"
   ]
  },
  {
   "cell_type": "code",
   "execution_count": null,
   "metadata": {},
   "outputs": [],
   "source": [
    "model = LassoCV(random_state=10)\n",
    "\n",
    "model.fit(X_train_scaled, Y_train)\n",
    "predictions = model.predict(X_test_scaled)\n",
    "\n",
    "print (f'RMSE = {round(metrics.mean_squared_error(Y_test, predictions, squared=False), 3)}')\n",
    "\n",
    "pd.DataFrame(model.coef_, bike_data.columns[1:], columns=['Coefficients'])"
   ]
  },
  {
   "cell_type": "code",
   "execution_count": null,
   "metadata": {},
   "outputs": [],
   "source": [
    "model = Ridge()\n",
    "\n",
    "model.fit(X_train_scaled, Y_train)\n",
    "predictions = model.predict(X_test_scaled)\n",
    "\n",
    "print (f'RMSE = {round(metrics.mean_squared_error(Y_test, predictions, squared=False), 3)}')\n",
    "\n",
    "pd.DataFrame(model.coef_, bike_data.columns[1:], columns=['Coefficients'])"
   ]
  },
  {
   "cell_type": "code",
   "execution_count": null,
   "metadata": {},
   "outputs": [],
   "source": [
    "model = RidgeCV()\n",
    "\n",
    "model.fit(X_train_scaled, Y_train)\n",
    "predictions = model.predict(X_test_scaled)\n",
    "\n",
    "print (f'RMSE = {round(metrics.mean_squared_error(Y_test, predictions, squared=False), 3)}')\n",
    "\n",
    "pd.DataFrame(model.coef_, bike_data.columns[1:], columns=['Coefficients'])"
   ]
  },
  {
   "cell_type": "code",
   "execution_count": null,
   "metadata": {},
   "outputs": [],
   "source": [
    "alphas = np.linspace(1, 10, 20)\n",
    "alphas"
   ]
  },
  {
   "cell_type": "code",
   "execution_count": null,
   "metadata": {},
   "outputs": [],
   "source": [
    "model = LassoCV(random_state = 10, alphas=alphas)\n",
    "\n",
    "model.fit(X_train_scaled, Y_train)\n",
    "predictions = model.predict(X_test_scaled)\n",
    "\n",
    "print (f'RMSE = {round(metrics.mean_squared_error(Y_test, predictions, squared=False), 3)}')\n",
    "\n",
    "pd.DataFrame(model.coef_, bike_data.columns[1:], columns=['Coefficients'])"
   ]
  },
  {
   "cell_type": "code",
   "execution_count": null,
   "metadata": {},
   "outputs": [],
   "source": [
    "bike_data_dummy = pd.concat([bike_data.drop('weather_code', axis=1), \n",
    "                             pd.get_dummies(bike_data['weather_code'])], axis = 1)\n",
    "bike_data_dummy.head()"
   ]
  },
  {
   "cell_type": "code",
   "execution_count": null,
   "metadata": {},
   "outputs": [],
   "source": [
    "X, Y = bike_data_dummy.drop(['cnt'], axis=1), bike_data_dummy['cnt']\n",
    "\n",
    "X_train, X_test, Y_train, Y_test = train_test_split(X, Y, test_size=0.3, shuffle=False)\n",
    "\n",
    "std_scaler = StandardScaler()\n",
    "\n",
    "X_train_scaled = std_scaler.fit_transform(X_train)\n",
    "X_test_scaled = std_scaler.transform(X_test)\n",
    "\n",
    "model = LassoCV(alphas=alphas)\n",
    "\n",
    "model.fit(X_train_scaled, Y_train)\n",
    "predictions = model.predict(X_test_scaled)\n",
    "\n",
    "print (f'RMSE = {round(metrics.mean_squared_error(Y_test, predictions, squared=False), 3)}')\n",
    "\n",
    "pd.DataFrame(model.coef_, bike_data_dummy.columns[1:], \n",
    "             columns=['Coefficients']).sort_values('Coefficients')"
   ]
  },
  {
   "cell_type": "code",
   "execution_count": null,
   "metadata": {},
   "outputs": [],
   "source": [
    "from sklearn.ensemble import RandomForestRegressor\n",
    "\n",
    "model = RandomForestRegressor(random_state = 10, n_estimators = 100)\n",
    "\n",
    "model.fit(X_train, Y_train)\n",
    "predictions = model.predict(X_test)\n",
    "\n",
    "print (f'RMSE = {round(metrics.mean_squared_error(Y_test, predictions, squared=False), 3)}')\n",
    "\n",
    "pd.DataFrame(model.feature_importances_, bike_data_dummy.columns[1:], \n",
    "             columns=['Importance']).sort_values('Importance')"
   ]
  },
  {
   "cell_type": "code",
   "execution_count": null,
   "metadata": {},
   "outputs": [],
   "source": [
    "plt.figure(figsize=(8, 8))\n",
    "plt.scatter(predictions, Y_test)\n",
    "plt.xlabel('Predictions')\n",
    "plt.ylabel('Target')"
   ]
  },
  {
   "cell_type": "code",
   "execution_count": null,
   "metadata": {},
   "outputs": [],
   "source": []
  }
 ],
 "metadata": {
  "kernelspec": {
   "display_name": "Python 3",
   "language": "python",
   "name": "python3"
  },
  "language_info": {
   "codemirror_mode": {
    "name": "ipython",
    "version": 3
   },
   "file_extension": ".py",
   "mimetype": "text/x-python",
   "name": "python",
   "nbconvert_exporter": "python",
   "pygments_lexer": "ipython3",
   "version": "3.8.1"
  }
 },
 "nbformat": 4,
 "nbformat_minor": 4
}
